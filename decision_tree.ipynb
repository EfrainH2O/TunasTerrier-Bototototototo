{
 "cells": [
  {
   "cell_type": "code",
   "execution_count": 44,
   "metadata": {
    "collapsed": true,
    "id": "M9p4FmBEVhCp"
   },
   "outputs": [],
   "source": [
    "# For Python 2 / 3 compatability\n",
    "from __future__ import print_function"
   ]
  },
  {
   "cell_type": "code",
   "execution_count": 45,
   "metadata": {
    "collapsed": true,
    "id": "-E07QU77VhCp"
   },
   "outputs": [],
   "source": [
    "# Toy dataset.\n",
    "# Format: each row is an example.\n",
    "# The last column is the label.\n",
    "# The first three columns are features.\n",
    "training_data = [\n",
    "    [239, 236, 245, 'Purple'],\n",
    "    [239, 236, 245, 'Purple'],\n",
    "    [239, 237, 245, 'Purple'],\n",
    "    [239, 236, 246, 'Purple'],\n",
    "    [239, 238, 245, 'Purple'],\n",
    "    [150, 112, 174, 'Purple'],\n",
    "    [151, 113, 177, 'Purple'],\n",
    "    [151, 112, 179, 'Purple'],\n",
    "    [151, 112, 177, 'Purple'],\n",
    "    [152, 112, 174, 'Purple'],\n",
    "    [251, 238, 242, 'Pink'],\n",
    "    [252, 238, 242, 'Pink'],\n",
    "    [252, 239, 242, 'Pink'],\n",
    "    [252, 238, 242, 'Pink'],\n",
    "    [252, 238, 242, 'Pink'],\n",
    "    [255, 180, 213, 'Pink'],\n",
    "    [255, 181, 214, 'Pink'],\n",
    "    [254, 182, 214, 'Pink'],\n",
    "    [255, 181, 213, 'Pink'],\n",
    "    [254, 181, 214, 'Pink'],\n",
    "    [253, 241, 209, 'Yellow'],\n",
    "    [253, 241, 209, 'Yellow'],\n",
    "    [253, 242, 210, 'Yellow'],\n",
    "    [253, 241, 208, 'Yellow'],\n",
    "    [253, 241, 209, 'Yellow'],\n",
    "    [253, 242, 194, 'Yellow'],\n",
    "    [253, 244, 195, 'Yellow'],\n",
    "    [253, 244, 196, 'Yellow'],\n",
    "    [253, 243, 195, 'Yellow'],\n",
    "    [253, 243, 194, 'Yellow'],\n",
    "    [253, 210, 178, 'Orange'],\n",
    "    [253, 211, 178, 'Orange'],\n",
    "    [253, 210, 180, 'Orange'],\n",
    "    [253, 210, 180, 'Orange'],\n",
    "    [253, 210, 180, 'Orange'],\n",
    "    [264, 223, 195, 'Orange'],\n",
    "    [262, 222, 195, 'Orange'],\n",
    "    [262, 222, 195, 'Orange'],\n",
    "    [262, 221, 195, 'Orange'],\n",
    "    [262, 221, 195, 'Orange'],\n",
    "    [156, 217, 231, 'Blue'],\n",
    "    [156, 216, 231, 'Blue'],\n",
    "    [157, 216, 231, 'Blue'],\n",
    "    [157, 216, 231, 'Blue'],\n",
    "    [155, 218, 233, 'Blue'],\n",
    "    [61, 137, 189, 'Blue'],\n",
    "    [62, 135, 188, 'Blue'],\n",
    "    [63, 135, 189, 'Blue'],\n",
    "    [62, 137, 195, 'Blue'],\n",
    "    [60, 138, 188, 'Blue'],\n",
    "    [241, 152, 157, 'Red'],\n",
    "    [241, 148, 156, 'Red'],\n",
    "    [241, 149, 157, 'Red'],\n",
    "    [241, 148, 156, 'Red'],\n",
    "    [241, 148, 157, 'Red'],\n",
    "]"
   ]
  },
  {
   "cell_type": "code",
   "execution_count": 46,
   "metadata": {
    "collapsed": true,
    "id": "nGFV_vBmVhCq"
   },
   "outputs": [],
   "source": [
    "# Column labels.\n",
    "# These are used only to print the tree.\n",
    "header = [\"Red\", \"Green\", \"Blue\", \"Label\"]"
   ]
  },
  {
   "cell_type": "code",
   "execution_count": 47,
   "metadata": {
    "collapsed": true,
    "id": "goomagE8VhCq"
   },
   "outputs": [],
   "source": [
    "def unique_vals(rows, col):\n",
    "    \"\"\"Find the unique values for a column in a dataset.\"\"\"\n",
    "    return set([row[col] for row in rows])"
   ]
  },
  {
   "cell_type": "code",
   "execution_count": 48,
   "metadata": {
    "colab": {
     "base_uri": "https://localhost:8080/"
    },
    "id": "9WPQh6hMVhCq",
    "outputId": "6450e958-f04d-4421-d6a1-0135900d82a4"
   },
   "outputs": [
    {
     "data": {
      "text/plain": [
       "{60,\n",
       " 61,\n",
       " 62,\n",
       " 63,\n",
       " 150,\n",
       " 151,\n",
       " 152,\n",
       " 155,\n",
       " 156,\n",
       " 157,\n",
       " 239,\n",
       " 241,\n",
       " 251,\n",
       " 252,\n",
       " 253,\n",
       " 254,\n",
       " 255,\n",
       " 262,\n",
       " 264}"
      ]
     },
     "execution_count": 48,
     "metadata": {},
     "output_type": "execute_result"
    }
   ],
   "source": [
    "#######\n",
    "# Demo:\n",
    "unique_vals(training_data, 0)\n",
    "#######"
   ]
  },
  {
   "cell_type": "code",
   "execution_count": 49,
   "metadata": {
    "collapsed": true,
    "id": "F4BKJc95VhCr"
   },
   "outputs": [],
   "source": [
    "def class_counts(rows):\n",
    "    \"\"\"Counts the number of each type of example in a dataset.\"\"\"\n",
    "    counts = {}  # a dictionary of label -> count.\n",
    "    for row in rows:\n",
    "        # in our dataset format, the label is always the last column\n",
    "        label = row[-1]\n",
    "        if label not in counts:\n",
    "            counts[label] = 0\n",
    "        counts[label] += 1\n",
    "    return counts"
   ]
  },
  {
   "cell_type": "code",
   "execution_count": 50,
   "metadata": {
    "colab": {
     "base_uri": "https://localhost:8080/"
    },
    "id": "Mnhqa1kyVhCr",
    "outputId": "9eba8ac6-b350-4f6c-a0dd-426c332c1f69"
   },
   "outputs": [
    {
     "data": {
      "text/plain": [
       "{'Purple': 10, 'Pink': 10, 'Yellow': 10, 'Orange': 10, 'Blue': 10, 'Red': 5}"
      ]
     },
     "execution_count": 50,
     "metadata": {},
     "output_type": "execute_result"
    }
   ],
   "source": [
    "#######\n",
    "# Demo:\n",
    "class_counts(training_data)\n",
    "#######"
   ]
  },
  {
   "cell_type": "code",
   "execution_count": 51,
   "metadata": {
    "collapsed": true,
    "id": "VGJXQ9WxVhCr"
   },
   "outputs": [],
   "source": [
    "def is_numeric(value):\n",
    "    \"\"\"Test if a value is numeric.\"\"\"\n",
    "    return isinstance(value, int) or isinstance(value, float)"
   ]
  },
  {
   "cell_type": "code",
   "execution_count": null,
   "metadata": {
    "colab": {
     "base_uri": "https://localhost:8080/"
    },
    "id": "vnXWjb7xVhCr",
    "outputId": "9e75f3f9-e051-4b96-b647-c1e5a44b4eeb"
   },
   "outputs": [
    {
     "data": {
      "text/plain": [
       "True"
      ]
     },
     "execution_count": 52,
     "metadata": {},
     "output_type": "execute_result"
    }
   ],
   "source": [
    "#######\n",
    "# Demo:\n",
    "is_numeric(7)\n",
    "#######"
   ]
  },
  {
   "cell_type": "code",
   "execution_count": 53,
   "metadata": {
    "collapsed": true,
    "id": "2YzTn6VIVhCr"
   },
   "outputs": [],
   "source": [
    "class Question:\n",
    "    \"\"\"A Question is used to partition a dataset.\n",
    "\n",
    "    This class just records a 'column number' (e.g., 0 for Red) and a\n",
    "    'column value' (e.g., 266). The 'match' method is used to compare\n",
    "    the feature value in an example to the feature value stored in the\n",
    "    question. See the demo below.\n",
    "    \"\"\"\n",
    "\n",
    "    def __init__(self, column, value):\n",
    "        self.column = column\n",
    "        self.value = value\n",
    "\n",
    "    def match(self, example):\n",
    "        # Compare the feature value in an example to the\n",
    "        # feature value in this question.\n",
    "        val = example[self.column]\n",
    "        if is_numeric(val):\n",
    "            return val >= self.value\n",
    "        else:\n",
    "            return val == self.value\n",
    "\n",
    "    def __repr__(self):\n",
    "        # This is just a helper method to print\n",
    "        # the question in a readable format.\n",
    "        condition = \"==\"\n",
    "        if is_numeric(self.value):\n",
    "            condition = \">=\"\n",
    "        return \"Is %s %s %s?\" % (\n",
    "            header[self.column], condition, str(self.value))"
   ]
  },
  {
   "cell_type": "code",
   "execution_count": 54,
   "metadata": {
    "colab": {
     "base_uri": "https://localhost:8080/"
    },
    "id": "vb_3Wzb1VhCr",
    "outputId": "ff65f5f3-b544-42cf-f473-1dff8f319b1c"
   },
   "outputs": [
    {
     "data": {
      "text/plain": [
       "Is Green >= 219?"
      ]
     },
     "execution_count": 54,
     "metadata": {},
     "output_type": "execute_result"
    }
   ],
   "source": [
    "#######\n",
    "# Demo:\n",
    "# Let's write a question for a numeric attribute\n",
    "Question(1, 219)"
   ]
  },
  {
   "cell_type": "code",
   "execution_count": 55,
   "metadata": {
    "colab": {
     "base_uri": "https://localhost:8080/"
    },
    "id": "EhiKfhdvVhCs",
    "outputId": "454ff068-afc8-439c-e9e3-69b190129930"
   },
   "outputs": [
    {
     "data": {
      "text/plain": [
       "Is Green >= 219?"
      ]
     },
     "execution_count": 55,
     "metadata": {},
     "output_type": "execute_result"
    }
   ],
   "source": [
    "# Demo:\n",
    "#\n",
    "q = Question(1, 219)\n",
    "q"
   ]
  },
  {
   "cell_type": "code",
   "execution_count": 56,
   "metadata": {
    "colab": {
     "base_uri": "https://localhost:8080/"
    },
    "id": "aHIKNdN7VhCs",
    "outputId": "0b4edc56-5c3e-4862-dd0b-61a86d18ae36"
   },
   "outputs": [
    {
     "data": {
      "text/plain": [
       "True"
      ]
     },
     "execution_count": 56,
     "metadata": {},
     "output_type": "execute_result"
    }
   ],
   "source": [
    "# Let's pick an example from the training set...\n",
    "example = training_data[0]\n",
    "# ... and see if it matches the question\n",
    "q.match(example) # this will be true, since the first example is Green.\n",
    "#######"
   ]
  },
  {
   "cell_type": "code",
   "execution_count": 57,
   "metadata": {
    "collapsed": true,
    "id": "c2hHrse3VhCs"
   },
   "outputs": [],
   "source": [
    "def partition(rows, question):\n",
    "    \"\"\"Partitions a dataset.\n",
    "\n",
    "    For each row in the dataset, check if it matches the question. If\n",
    "    so, add it to 'true rows', otherwise, add it to 'false rows'.\n",
    "    \"\"\"\n",
    "    true_rows, false_rows = [], []\n",
    "    for row in rows:\n",
    "        if question.match(row):\n",
    "            true_rows.append(row)\n",
    "        else:\n",
    "            false_rows.append(row)\n",
    "    return true_rows, false_rows"
   ]
  },
  {
   "cell_type": "code",
   "execution_count": 58,
   "metadata": {
    "colab": {
     "base_uri": "https://localhost:8080/"
    },
    "id": "tIagczN1VhCs",
    "outputId": "bfe819ac-ce99-4387-eabe-26e409fa127a"
   },
   "outputs": [
    {
     "data": {
      "text/plain": [
       "[[239, 236, 245, 'Purple'],\n",
       " [239, 236, 245, 'Purple'],\n",
       " [239, 237, 245, 'Purple'],\n",
       " [239, 236, 246, 'Purple'],\n",
       " [239, 238, 245, 'Purple'],\n",
       " [251, 238, 242, 'Pink'],\n",
       " [252, 238, 242, 'Pink'],\n",
       " [252, 239, 242, 'Pink'],\n",
       " [252, 238, 242, 'Pink'],\n",
       " [252, 238, 242, 'Pink'],\n",
       " [253, 241, 209, 'Yellow'],\n",
       " [253, 241, 209, 'Yellow'],\n",
       " [253, 242, 210, 'Yellow'],\n",
       " [253, 241, 208, 'Yellow'],\n",
       " [253, 241, 209, 'Yellow'],\n",
       " [253, 242, 194, 'Yellow'],\n",
       " [253, 244, 195, 'Yellow'],\n",
       " [253, 244, 196, 'Yellow'],\n",
       " [253, 243, 195, 'Yellow'],\n",
       " [253, 243, 194, 'Yellow'],\n",
       " [264, 223, 195, 'Orange'],\n",
       " [262, 222, 195, 'Orange'],\n",
       " [262, 222, 195, 'Orange'],\n",
       " [262, 221, 195, 'Orange'],\n",
       " [262, 221, 195, 'Orange']]"
      ]
     },
     "execution_count": 58,
     "metadata": {},
     "output_type": "execute_result"
    }
   ],
   "source": [
    "#######\n",
    "# Demo:\n",
    "# Let's partition the training data based on whether rows are Red.\n",
    "true_rows, false_rows = partition(training_data, Question(1, 219))\n",
    "# This will contain all the 'Red' rows.\n",
    "true_rows"
   ]
  },
  {
   "cell_type": "code",
   "execution_count": 59,
   "metadata": {
    "colab": {
     "base_uri": "https://localhost:8080/"
    },
    "id": "UF-myOT6VhCs",
    "outputId": "8336f2a2-8682-47f4-cb61-10a1c7b8f9af"
   },
   "outputs": [
    {
     "data": {
      "text/plain": [
       "[[150, 112, 174, 'Purple'],\n",
       " [151, 113, 177, 'Purple'],\n",
       " [151, 112, 179, 'Purple'],\n",
       " [151, 112, 177, 'Purple'],\n",
       " [152, 112, 174, 'Purple'],\n",
       " [255, 180, 213, 'Pink'],\n",
       " [255, 181, 214, 'Pink'],\n",
       " [254, 182, 214, 'Pink'],\n",
       " [255, 181, 213, 'Pink'],\n",
       " [254, 181, 214, 'Pink'],\n",
       " [253, 210, 178, 'Orange'],\n",
       " [253, 211, 178, 'Orange'],\n",
       " [253, 210, 180, 'Orange'],\n",
       " [253, 210, 180, 'Orange'],\n",
       " [253, 210, 180, 'Orange'],\n",
       " [156, 217, 231, 'Blue'],\n",
       " [156, 216, 231, 'Blue'],\n",
       " [157, 216, 231, 'Blue'],\n",
       " [157, 216, 231, 'Blue'],\n",
       " [155, 218, 233, 'Blue'],\n",
       " [61, 137, 189, 'Blue'],\n",
       " [62, 135, 188, 'Blue'],\n",
       " [63, 135, 189, 'Blue'],\n",
       " [62, 137, 195, 'Blue'],\n",
       " [60, 138, 188, 'Blue'],\n",
       " [241, 152, 157, 'Red'],\n",
       " [241, 148, 156, 'Red'],\n",
       " [241, 149, 157, 'Red'],\n",
       " [241, 148, 156, 'Red'],\n",
       " [241, 148, 157, 'Red']]"
      ]
     },
     "execution_count": 59,
     "metadata": {},
     "output_type": "execute_result"
    }
   ],
   "source": [
    "# This will contain everything else.\n",
    "false_rows\n",
    "#######"
   ]
  },
  {
   "cell_type": "code",
   "execution_count": 60,
   "metadata": {
    "collapsed": true,
    "id": "hjzBeU-aVhCs"
   },
   "outputs": [],
   "source": [
    "def gini(rows):\n",
    "    \"\"\"Calculate the Gini Impurity for a list of rows.\n",
    "\n",
    "    There are a few different ways to do this, I thought this one was\n",
    "    the most concise. See:\n",
    "    https://en.wikipedia.org/wiki/Decision_tree_learning#Gini_impurity\n",
    "    \"\"\"\n",
    "    counts = class_counts(rows)\n",
    "    impurity = 1\n",
    "    for lbl in counts:\n",
    "        prob_of_lbl = counts[lbl] / float(len(rows))\n",
    "        impurity -= prob_of_lbl**2\n",
    "    return impurity"
   ]
  },
  {
   "cell_type": "code",
   "execution_count": 61,
   "metadata": {
    "colab": {
     "base_uri": "https://localhost:8080/"
    },
    "id": "pRb_Lc9gVhCs",
    "outputId": "3fe906ee-a4a5-4f74-e738-b4e0dec5695b"
   },
   "outputs": [
    {
     "data": {
      "text/plain": [
       "0.0"
      ]
     },
     "execution_count": 61,
     "metadata": {},
     "output_type": "execute_result"
    }
   ],
   "source": [
    "#######\n",
    "# Demo:\n",
    "# Let's look at some example to understand how Gini Impurity works.\n",
    "#\n",
    "# First, we'll look at a dataset with no mixing.\n",
    "no_mixing = [['Green'],\n",
    "              ['Green']]\n",
    "# this will return 0\n",
    "gini(no_mixing)"
   ]
  },
  {
   "cell_type": "code",
   "execution_count": 62,
   "metadata": {
    "colab": {
     "base_uri": "https://localhost:8080/"
    },
    "id": "uZM3rsfvVhCs",
    "outputId": "12bb0c0b-c420-4030-bee1-d27a6153d860"
   },
   "outputs": [
    {
     "data": {
      "text/plain": [
       "0.5"
      ]
     },
     "execution_count": 62,
     "metadata": {},
     "output_type": "execute_result"
    }
   ],
   "source": [
    "# Now, we'll look at dataset with a 50:50 apples:oranges ratio\n",
    "some_mixing = [['Green'],\n",
    "               ['Orange']]\n",
    "# this will return 0.5 - meaning, there's a 50% chance of misclassifying\n",
    "# a random example we draw from the dataset.\n",
    "gini(some_mixing)"
   ]
  },
  {
   "cell_type": "code",
   "execution_count": 63,
   "metadata": {
    "colab": {
     "base_uri": "https://localhost:8080/"
    },
    "id": "Gs-g1N50VhCs",
    "outputId": "9845baaf-879a-4d13-8426-b0f9ebb42897"
   },
   "outputs": [
    {
     "data": {
      "text/plain": [
       "0.7999999999999998"
      ]
     },
     "execution_count": 63,
     "metadata": {},
     "output_type": "execute_result"
    }
   ],
   "source": [
    "# Now, we'll look at a dataset with many different labels\n",
    "lots_of_mixing = [['Green'],\n",
    "                  ['Orange'],\n",
    "                  ['Yellow'],\n",
    "                  ['Purple'],\n",
    "                  ['Pink']]\n",
    "# This will return 0.8\n",
    "gini(lots_of_mixing)\n",
    "#######"
   ]
  },
  {
   "cell_type": "code",
   "execution_count": 64,
   "metadata": {
    "collapsed": true,
    "id": "KQpxT0YmVhCs"
   },
   "outputs": [],
   "source": [
    "def info_gain(left, right, current_uncertainty):\n",
    "    \"\"\"Information Gain.\n",
    "\n",
    "    The uncertainty of the starting node, minus the weighted impurity of\n",
    "    two child nodes.\n",
    "    \"\"\"\n",
    "    p = float(len(left)) / (len(left) + len(right))\n",
    "    return current_uncertainty - p * gini(left) - (1 - p) * gini(right)"
   ]
  },
  {
   "cell_type": "code",
   "execution_count": 65,
   "metadata": {
    "colab": {
     "base_uri": "https://localhost:8080/"
    },
    "id": "aDDPi8F0VhCt",
    "outputId": "df21a347-2c1f-4432-ba84-956cf528d646"
   },
   "outputs": [
    {
     "data": {
      "text/plain": [
       "0.8264462809917356"
      ]
     },
     "execution_count": 65,
     "metadata": {},
     "output_type": "execute_result"
    }
   ],
   "source": [
    "#######\n",
    "# Demo:\n",
    "# Calculate the uncertainy of our training data.\n",
    "current_uncertainty = gini(training_data)\n",
    "current_uncertainty"
   ]
  },
  {
   "cell_type": "code",
   "execution_count": 66,
   "metadata": {
    "colab": {
     "base_uri": "https://localhost:8080/"
    },
    "id": "HVCygotFVhCt",
    "outputId": "3ee728f0-ba64-4b68-e20d-0fb61ee49d63"
   },
   "outputs": [
    {
     "data": {
      "text/plain": [
       "0.07493112947658415"
      ]
     },
     "execution_count": 66,
     "metadata": {},
     "output_type": "execute_result"
    }
   ],
   "source": [
    "# How much information do we gain by partioning on Green >= 219?\n",
    "true_rows, false_rows = partition(training_data, Question(1, 219))\n",
    "info_gain(true_rows, false_rows, current_uncertainty)"
   ]
  },
  {
   "cell_type": "code",
   "execution_count": 67,
   "metadata": {
    "colab": {
     "base_uri": "https://localhost:8080/"
    },
    "id": "W_p-t5i2VhCt",
    "outputId": "49d33914-a64f-4293-f449-376260f02edd"
   },
   "outputs": [
    {
     "data": {
      "text/plain": [
       "0.1370523415977961"
      ]
     },
     "execution_count": 67,
     "metadata": {},
     "output_type": "execute_result"
    }
   ],
   "source": [
    "# What about if we partioned on Red >= 223 instead?\n",
    "true_rows, false_rows = partition(training_data, Question(0,223))\n",
    "info_gain(true_rows, false_rows, current_uncertainty)"
   ]
  },
  {
   "cell_type": "code",
   "execution_count": 68,
   "metadata": {
    "colab": {
     "base_uri": "https://localhost:8080/"
    },
    "id": "wio-_HLAlXJZ",
    "outputId": "6b6bff48-4b7c-4d18-c939-fe92fddd129b"
   },
   "outputs": [
    {
     "data": {
      "text/plain": [
       "0.09408060744959151"
      ]
     },
     "execution_count": 68,
     "metadata": {},
     "output_type": "execute_result"
    }
   ],
   "source": [
    "# What about if we partioned on Blue >= 210 instead?\n",
    "true_rows, false_rows = partition(training_data, Question(2,210))\n",
    "info_gain(true_rows, false_rows, current_uncertainty)"
   ]
  },
  {
   "cell_type": "code",
   "execution_count": 69,
   "metadata": {
    "colab": {
     "base_uri": "https://localhost:8080/"
    },
    "id": "-mpPxbzaVhCt",
    "outputId": "a3d120a0-0d68-4fb5-fe2a-9262c999b025"
   },
   "outputs": [
    {
     "data": {
      "text/plain": [
       "[[239, 236, 245, 'Purple'],\n",
       " [239, 236, 245, 'Purple'],\n",
       " [239, 237, 245, 'Purple'],\n",
       " [239, 236, 246, 'Purple'],\n",
       " [239, 238, 245, 'Purple'],\n",
       " [251, 238, 242, 'Pink'],\n",
       " [252, 238, 242, 'Pink'],\n",
       " [252, 239, 242, 'Pink'],\n",
       " [252, 238, 242, 'Pink'],\n",
       " [252, 238, 242, 'Pink'],\n",
       " [255, 180, 213, 'Pink'],\n",
       " [255, 181, 214, 'Pink'],\n",
       " [254, 182, 214, 'Pink'],\n",
       " [255, 181, 213, 'Pink'],\n",
       " [254, 181, 214, 'Pink'],\n",
       " [253, 241, 209, 'Yellow'],\n",
       " [253, 241, 209, 'Yellow'],\n",
       " [253, 242, 210, 'Yellow'],\n",
       " [253, 241, 208, 'Yellow'],\n",
       " [253, 241, 209, 'Yellow'],\n",
       " [253, 242, 194, 'Yellow'],\n",
       " [253, 244, 195, 'Yellow'],\n",
       " [253, 244, 196, 'Yellow'],\n",
       " [253, 243, 195, 'Yellow'],\n",
       " [253, 243, 194, 'Yellow'],\n",
       " [253, 210, 178, 'Orange'],\n",
       " [253, 211, 178, 'Orange'],\n",
       " [253, 210, 180, 'Orange'],\n",
       " [253, 210, 180, 'Orange'],\n",
       " [253, 210, 180, 'Orange'],\n",
       " [264, 223, 195, 'Orange'],\n",
       " [262, 222, 195, 'Orange'],\n",
       " [262, 222, 195, 'Orange'],\n",
       " [262, 221, 195, 'Orange'],\n",
       " [262, 221, 195, 'Orange'],\n",
       " [241, 152, 157, 'Red'],\n",
       " [241, 148, 156, 'Red'],\n",
       " [241, 149, 157, 'Red'],\n",
       " [241, 148, 156, 'Red'],\n",
       " [241, 148, 157, 'Red']]"
      ]
     },
     "execution_count": 69,
     "metadata": {},
     "output_type": "execute_result"
    }
   ],
   "source": [
    "# It looks like we learned more using Red >= 223 (0.096), than Green >= 219\n",
    "# (0.043) and Blue >= 210 (0.086).\n",
    "# Why? Look at the different splits that result, and see which one\n",
    "# looks more 'unmixed' to you.\n",
    "true_rows, false_rows = partition(training_data, Question(0,223))\n",
    "\n",
    "# Here, the true_rows contains Purple, Pink, Yellow, Orange, Green and Red.\n",
    "true_rows"
   ]
  },
  {
   "cell_type": "code",
   "execution_count": 70,
   "metadata": {
    "colab": {
     "base_uri": "https://localhost:8080/"
    },
    "id": "7iV-eMvIVhCt",
    "outputId": "2aea5053-7be3-4f58-b5b2-7eab4cb3ef47"
   },
   "outputs": [
    {
     "data": {
      "text/plain": [
       "[[150, 112, 174, 'Purple'],\n",
       " [151, 113, 177, 'Purple'],\n",
       " [151, 112, 179, 'Purple'],\n",
       " [151, 112, 177, 'Purple'],\n",
       " [152, 112, 174, 'Purple'],\n",
       " [156, 217, 231, 'Blue'],\n",
       " [156, 216, 231, 'Blue'],\n",
       " [157, 216, 231, 'Blue'],\n",
       " [157, 216, 231, 'Blue'],\n",
       " [155, 218, 233, 'Blue'],\n",
       " [61, 137, 189, 'Blue'],\n",
       " [62, 135, 188, 'Blue'],\n",
       " [63, 135, 189, 'Blue'],\n",
       " [62, 137, 195, 'Blue'],\n",
       " [60, 138, 188, 'Blue']]"
      ]
     },
     "execution_count": 70,
     "metadata": {},
     "output_type": "execute_result"
    }
   ],
   "source": [
    "# And the false rows contain three types of Color. Not too bad.\n",
    "false_rows"
   ]
  },
  {
   "cell_type": "code",
   "execution_count": 71,
   "metadata": {
    "colab": {
     "base_uri": "https://localhost:8080/"
    },
    "id": "Dh_5VDT1VhCt",
    "outputId": "0d7e3482-61cc-4b83-9ec0-b059059336d6"
   },
   "outputs": [
    {
     "data": {
      "text/plain": [
       "[[239, 236, 245, 'Purple'],\n",
       " [239, 236, 245, 'Purple'],\n",
       " [239, 237, 245, 'Purple'],\n",
       " [239, 236, 246, 'Purple'],\n",
       " [239, 238, 245, 'Purple'],\n",
       " [251, 238, 242, 'Pink'],\n",
       " [252, 238, 242, 'Pink'],\n",
       " [252, 239, 242, 'Pink'],\n",
       " [252, 238, 242, 'Pink'],\n",
       " [252, 238, 242, 'Pink'],\n",
       " [253, 241, 209, 'Yellow'],\n",
       " [253, 241, 209, 'Yellow'],\n",
       " [253, 242, 210, 'Yellow'],\n",
       " [253, 241, 208, 'Yellow'],\n",
       " [253, 241, 209, 'Yellow'],\n",
       " [253, 242, 194, 'Yellow'],\n",
       " [253, 244, 195, 'Yellow'],\n",
       " [253, 244, 196, 'Yellow'],\n",
       " [253, 243, 195, 'Yellow'],\n",
       " [253, 243, 194, 'Yellow'],\n",
       " [264, 223, 195, 'Orange'],\n",
       " [262, 222, 195, 'Orange'],\n",
       " [262, 222, 195, 'Orange'],\n",
       " [262, 221, 195, 'Orange'],\n",
       " [262, 221, 195, 'Orange']]"
      ]
     },
     "execution_count": 71,
     "metadata": {},
     "output_type": "execute_result"
    }
   ],
   "source": [
    "# On the other hand, partitioning by Green >= 219 doesn't help so much.\n",
    "true_rows, false_rows = partition(training_data, Question(1, 219))\n",
    "\n",
    "# We've Purple, Pink, Yellow, Orange, Blue, Green.\n",
    "true_rows"
   ]
  },
  {
   "cell_type": "code",
   "execution_count": 72,
   "metadata": {
    "colab": {
     "base_uri": "https://localhost:8080/"
    },
    "id": "CoPouGImVhCt",
    "outputId": "0e3de727-8ce0-454d-e822-2835704b06fa"
   },
   "outputs": [
    {
     "data": {
      "text/plain": [
       "[[150, 112, 174, 'Purple'],\n",
       " [151, 113, 177, 'Purple'],\n",
       " [151, 112, 179, 'Purple'],\n",
       " [151, 112, 177, 'Purple'],\n",
       " [152, 112, 174, 'Purple'],\n",
       " [255, 180, 213, 'Pink'],\n",
       " [255, 181, 214, 'Pink'],\n",
       " [254, 182, 214, 'Pink'],\n",
       " [255, 181, 213, 'Pink'],\n",
       " [254, 181, 214, 'Pink'],\n",
       " [253, 210, 178, 'Orange'],\n",
       " [253, 211, 178, 'Orange'],\n",
       " [253, 210, 180, 'Orange'],\n",
       " [253, 210, 180, 'Orange'],\n",
       " [253, 210, 180, 'Orange'],\n",
       " [156, 217, 231, 'Blue'],\n",
       " [156, 216, 231, 'Blue'],\n",
       " [157, 216, 231, 'Blue'],\n",
       " [157, 216, 231, 'Blue'],\n",
       " [155, 218, 233, 'Blue'],\n",
       " [61, 137, 189, 'Blue'],\n",
       " [62, 135, 188, 'Blue'],\n",
       " [63, 135, 189, 'Blue'],\n",
       " [62, 137, 195, 'Blue'],\n",
       " [60, 138, 188, 'Blue'],\n",
       " [241, 152, 157, 'Red'],\n",
       " [241, 148, 156, 'Red'],\n",
       " [241, 149, 157, 'Red'],\n",
       " [241, 148, 156, 'Red'],\n",
       " [241, 148, 157, 'Red']]"
      ]
     },
     "execution_count": 72,
     "metadata": {},
     "output_type": "execute_result"
    }
   ],
   "source": [
    "# But, we have five types of Color.\n",
    "false_rows\n",
    "#######"
   ]
  },
  {
   "cell_type": "code",
   "execution_count": 73,
   "metadata": {
    "collapsed": true,
    "id": "J-GwzkDAVhCt"
   },
   "outputs": [],
   "source": [
    "def find_best_split(rows):\n",
    "    \"\"\"Find the best question to ask by iterating over every feature / value\n",
    "    and calculating the information gain.\"\"\"\n",
    "    best_gain = 0  # keep track of the best information gain\n",
    "    best_question = None  # keep train of the feature / value that produced it\n",
    "    current_uncertainty = gini(rows)\n",
    "    n_features = len(rows[0]) - 1  # number of columns\n",
    "\n",
    "    for col in range(n_features):  # for each feature\n",
    "\n",
    "        values = set([row[col] for row in rows])  # unique values in the column\n",
    "\n",
    "        for val in values:  # for each value\n",
    "\n",
    "            question = Question(col, val)\n",
    "\n",
    "            # try splitting the dataset\n",
    "            true_rows, false_rows = partition(rows, question)\n",
    "\n",
    "            # Skip this split if it doesn't divide the\n",
    "            # dataset.\n",
    "            if len(true_rows) == 0 or len(false_rows) == 0:\n",
    "                continue\n",
    "\n",
    "            # Calculate the information gain from this split\n",
    "            gain = info_gain(true_rows, false_rows, current_uncertainty)\n",
    "\n",
    "            # You actually can use '>' instead of '>=' here\n",
    "            # but I wanted the tree to look a certain way for our\n",
    "            # toy dataset.\n",
    "            if gain >= best_gain:\n",
    "                best_gain, best_question = gain, question\n",
    "\n",
    "    return best_gain, best_question"
   ]
  },
  {
   "cell_type": "code",
   "execution_count": 74,
   "metadata": {
    "colab": {
     "base_uri": "https://localhost:8080/"
    },
    "id": "n98uZvo7VhCt",
    "outputId": "23bd0e98-ee27-45bc-d6d0-7baac8e59769"
   },
   "outputs": [
    {
     "data": {
      "text/plain": [
       "Is Green >= 241?"
      ]
     },
     "execution_count": 74,
     "metadata": {},
     "output_type": "execute_result"
    }
   ],
   "source": [
    "#######\n",
    "# Demo:\n",
    "# Find the best question to ask first for our dataset.\n",
    "best_gain, best_question = find_best_split(training_data)\n",
    "best_question\n",
    "#######"
   ]
  },
  {
   "cell_type": "code",
   "execution_count": 75,
   "metadata": {
    "collapsed": true,
    "id": "HHbqSlKkVhCt"
   },
   "outputs": [],
   "source": [
    "class Leaf:\n",
    "    \"\"\"A Leaf node classifies data.\n",
    "\n",
    "    This holds a dictionary of class (e.g., \"Apple\") -> number of times\n",
    "    it appears in the rows from the training data that reach this leaf.\n",
    "    \"\"\"\n",
    "\n",
    "    def __init__(self, rows):\n",
    "        self.predictions = class_counts(rows)"
   ]
  },
  {
   "cell_type": "code",
   "execution_count": 76,
   "metadata": {
    "collapsed": true,
    "id": "sXmA_jWUVhCt"
   },
   "outputs": [],
   "source": [
    "class Decision_Node:\n",
    "    \"\"\"A Decision Node asks a question.\n",
    "\n",
    "    This holds a reference to the question, and to the two child nodes.\n",
    "    \"\"\"\n",
    "\n",
    "    def __init__(self,\n",
    "                 question,\n",
    "                 true_branch,\n",
    "                 false_branch):\n",
    "        self.question = question\n",
    "        self.true_branch = true_branch\n",
    "        self.false_branch = false_branch"
   ]
  },
  {
   "cell_type": "code",
   "execution_count": 77,
   "metadata": {
    "collapsed": true,
    "id": "oMw7MsFsVhCt"
   },
   "outputs": [],
   "source": [
    "def build_tree(rows):\n",
    "    \"\"\"Builds the tree.\n",
    "\n",
    "    Rules of recursion: 1) Believe that it works. 2) Start by checking\n",
    "    for the base case (no further information gain). 3) Prepare for\n",
    "    giant stack traces.\n",
    "    \"\"\"\n",
    "\n",
    "    # Try partitioing the dataset on each of the unique attribute,\n",
    "    # calculate the information gain,\n",
    "    # and return the question that produces the highest gain.\n",
    "    gain, question = find_best_split(rows)\n",
    "\n",
    "    # Base case: no further info gain\n",
    "    # Since we can ask no further questions,\n",
    "    # we'll return a leaf.\n",
    "    if gain == 0:\n",
    "        return Leaf(rows)\n",
    "\n",
    "    # If we reach here, we have found a useful feature / value\n",
    "    # to partition on.\n",
    "    true_rows, false_rows = partition(rows, question)\n",
    "\n",
    "    # Recursively build the true branch.\n",
    "    true_branch = build_tree(true_rows)\n",
    "\n",
    "    # Recursively build the false branch.\n",
    "    false_branch = build_tree(false_rows)\n",
    "\n",
    "    # Return a Question node.\n",
    "    # This records the best feature / value to ask at this point,\n",
    "    # as well as the branches to follow\n",
    "    # dependingo on the answer.\n",
    "    return Decision_Node(question, true_branch, false_branch)"
   ]
  },
  {
   "cell_type": "code",
   "execution_count": 78,
   "metadata": {
    "collapsed": true,
    "id": "vnXpi8IrVhCt"
   },
   "outputs": [],
   "source": [
    "def print_tree(node, spacing=\"\"):\n",
    "    \"\"\"World's most elegant tree printing function.\"\"\"\n",
    "\n",
    "    # Base case: we've reached a leaf\n",
    "    if isinstance(node, Leaf):\n",
    "        print (spacing + \"Predict\", node.predictions)\n",
    "        return\n",
    "\n",
    "    # Print the question at this node\n",
    "    print (spacing + str(node.question))\n",
    "\n",
    "    # Call this function recursively on the true branch\n",
    "    print (spacing + '--> True:')\n",
    "    print_tree(node.true_branch, spacing + \"  \")\n",
    "\n",
    "    # Call this function recursively on the false branch\n",
    "    print (spacing + '--> False:')\n",
    "    print_tree(node.false_branch, spacing + \"  \")"
   ]
  },
  {
   "cell_type": "code",
   "execution_count": 79,
   "metadata": {
    "collapsed": true,
    "id": "diI5aY1YVhCt"
   },
   "outputs": [],
   "source": [
    "my_tree = build_tree(training_data)"
   ]
  },
  {
   "cell_type": "code",
   "execution_count": 80,
   "metadata": {
    "colab": {
     "base_uri": "https://localhost:8080/"
    },
    "id": "u6IMRnVoVhCu",
    "outputId": "958606e1-401e-4467-96df-85b42d40b80e"
   },
   "outputs": [
    {
     "name": "stdout",
     "output_type": "stream",
     "text": [
      "Is Green >= 241?\n",
      "--> True:\n",
      "  Predict {'Yellow': 10}\n",
      "--> False:\n",
      "  Is Red >= 251?\n",
      "  --> True:\n",
      "    Is Blue >= 213?\n",
      "    --> True:\n",
      "      Predict {'Pink': 10}\n",
      "    --> False:\n",
      "      Predict {'Orange': 10}\n",
      "  --> False:\n",
      "    Is Blue >= 174?\n",
      "    --> True:\n",
      "      Is Blue >= 188?\n",
      "      --> True:\n",
      "        Is Blue >= 245?\n",
      "        --> True:\n",
      "          Predict {'Purple': 5}\n",
      "        --> False:\n",
      "          Predict {'Blue': 10}\n",
      "      --> False:\n",
      "        Predict {'Purple': 5}\n",
      "    --> False:\n",
      "      Predict {'Red': 5}\n"
     ]
    }
   ],
   "source": [
    "print_tree(my_tree)"
   ]
  },
  {
   "cell_type": "code",
   "execution_count": 81,
   "metadata": {
    "collapsed": true,
    "id": "4jaebErmVhCu"
   },
   "outputs": [],
   "source": [
    "def classify(row, node):\n",
    "    \"\"\"See the 'rules of recursion' above.\"\"\"\n",
    "\n",
    "    # Base case: we've reached a leaf\n",
    "    if isinstance(node, Leaf):\n",
    "        return node.predictions\n",
    "\n",
    "    # Decide whether to follow the true-branch or the false-branch.\n",
    "    # Compare the feature / value stored in the node,\n",
    "    # to the example we're considering.\n",
    "    if node.question.match(row):\n",
    "        return classify(row, node.true_branch)\n",
    "    else:\n",
    "        return classify(row, node.false_branch)"
   ]
  },
  {
   "cell_type": "code",
   "execution_count": 82,
   "metadata": {
    "colab": {
     "base_uri": "https://localhost:8080/"
    },
    "id": "h-4eYEBwVhCu",
    "outputId": "0028b845-7f93-4cb9-c454-144e09c7d7b9"
   },
   "outputs": [
    {
     "data": {
      "text/plain": [
       "{'Purple': 5}"
      ]
     },
     "execution_count": 82,
     "metadata": {},
     "output_type": "execute_result"
    }
   ],
   "source": [
    "#######\n",
    "# Demo:\n",
    "# The tree predicts the 1st row of our\n",
    "# training data is an apple with confidence 1.\n",
    "classify(training_data[0], my_tree)\n",
    "#######"
   ]
  },
  {
   "cell_type": "code",
   "execution_count": 83,
   "metadata": {
    "collapsed": true,
    "id": "EeM_I_P9VhCw"
   },
   "outputs": [],
   "source": [
    "def print_leaf(counts):\n",
    "    \"\"\"A nicer way to print the predictions at a leaf.\"\"\"\n",
    "    total = sum(counts.values()) * 1.0\n",
    "    probs = {}\n",
    "    for lbl in counts.keys():\n",
    "        probs[lbl] = str(int(counts[lbl] / total * 100)) + \"%\"\n",
    "    return probs"
   ]
  },
  {
   "cell_type": "code",
   "execution_count": 84,
   "metadata": {
    "colab": {
     "base_uri": "https://localhost:8080/"
    },
    "id": "1YWpLS2-VhCx",
    "outputId": "976732c1-8ee9-4f9c-9151-9a371a9c9b30"
   },
   "outputs": [
    {
     "data": {
      "text/plain": [
       "{'Purple': '100%'}"
      ]
     },
     "execution_count": 84,
     "metadata": {},
     "output_type": "execute_result"
    }
   ],
   "source": [
    "#######\n",
    "# Demo:\n",
    "# Printing that a bit nicer\n",
    "print_leaf(classify(training_data[0], my_tree))\n",
    "#######"
   ]
  },
  {
   "cell_type": "code",
   "execution_count": 85,
   "metadata": {
    "collapsed": true,
    "id": "D9sV5tntVhCx"
   },
   "outputs": [],
   "source": [
    "# Evaluate\n",
    "testing_data = [\n",
    "    [252, 209, 176, 'Orange'],\n",
    "    [253, 241, 212, 'Yellow'],\n",
    "    [240, 237, 245, 'Purple'],\n",
    "    [251, 237, 241, 'Pink'],\n",
    "    [230, 148, 153, 'Red'],\n",
    "    [155, 215, 229, 'Blue'],\n",
    "]"
   ]
  },
  {
   "cell_type": "code",
   "execution_count": 86,
   "metadata": {
    "colab": {
     "base_uri": "https://localhost:8080/"
    },
    "id": "XyKIRneCVhCx",
    "outputId": "9574b208-1885-46ab-dffc-349325a6cae3"
   },
   "outputs": [
    {
     "name": "stdout",
     "output_type": "stream",
     "text": [
      "Actual: Orange. Predicted: {'Orange': '100%'}\n",
      "Actual: Yellow. Predicted: {'Yellow': '100%'}\n",
      "Actual: Purple. Predicted: {'Purple': '100%'}\n",
      "Actual: Pink. Predicted: {'Pink': '100%'}\n",
      "Actual: Red. Predicted: {'Red': '100%'}\n",
      "Actual: Blue. Predicted: {'Blue': '100%'}\n"
     ]
    }
   ],
   "source": [
    "for row in testing_data:\n",
    "    print (\"Actual: %s. Predicted: %s\" %\n",
    "           (row[-1], print_leaf(classify(row, my_tree))))"
   ]
  }
 ],
 "metadata": {
  "colab": {
   "provenance": []
  },
  "kernelspec": {
   "display_name": "base",
   "language": "python",
   "name": "python3"
  },
  "language_info": {
   "codemirror_mode": {
    "name": "ipython",
    "version": 3
   },
   "file_extension": ".py",
   "mimetype": "text/x-python",
   "name": "python",
   "nbconvert_exporter": "python",
   "pygments_lexer": "ipython3",
   "version": "3.12.3"
  }
 },
 "nbformat": 4,
 "nbformat_minor": 0
}
